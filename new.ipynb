{
 "cells": [
  {
   "cell_type": "code",
   "execution_count": 1,
   "metadata": {},
   "outputs": [],
   "source": [
    "\n"
   ]
  },
  {
   "cell_type": "code",
   "execution_count": 2,
   "metadata": {},
   "outputs": [
    {
     "name": "stderr",
     "output_type": "stream",
     "text": [
      "Some weights of DistilBertForSequenceClassification were not initialized from the model checkpoint at distilbert-base-uncased and are newly initialized: ['classifier.weight', 'classifier.bias', 'pre_classifier.bias', 'pre_classifier.weight']\n",
      "You should probably TRAIN this model on a down-stream task to be able to use it for predictions and inference.\n",
      "huggingface/tokenizers: The current process just got forked, after parallelism has already been used. Disabling parallelism to avoid deadlocks...\n",
      "To disable this warning, you can either:\n",
      "\t- Avoid using `tokenizers` before the fork if possible\n",
      "\t- Explicitly set the environment variable TOKENIZERS_PARALLELISM=(true | false)\n"
     ]
    },
    {
     "data": {
      "application/vnd.jupyter.widget-view+json": {
       "model_id": "7c00cdc1a479457ba69e1b930d54ef11",
       "version_major": 2,
       "version_minor": 0
      },
      "text/plain": [
       "  0%|          | 0/12 [00:00<?, ?it/s]"
      ]
     },
     "metadata": {},
     "output_type": "display_data"
    },
    {
     "data": {
      "application/vnd.jupyter.widget-view+json": {
       "model_id": "81d4ecb5a4c442cab29b5b5a37b20eb6",
       "version_major": 2,
       "version_minor": 0
      },
      "text/plain": [
       "  0%|          | 0/1 [00:00<?, ?it/s]"
      ]
     },
     "metadata": {},
     "output_type": "display_data"
    },
    {
     "name": "stdout",
     "output_type": "stream",
     "text": [
      "{'eval_loss': 0.6807213425636292, 'eval_accuracy': 0.6, 'eval_recall': 0.6, 'eval_f1': 0.4499999999999999, 'eval_runtime': 0.2105, 'eval_samples_per_second': 23.751, 'eval_steps_per_second': 4.75, 'epoch': 1.0}\n"
     ]
    },
    {
     "data": {
      "application/vnd.jupyter.widget-view+json": {
       "model_id": "4ad9e8471ff9422a99471eb6a10b18a6",
       "version_major": 2,
       "version_minor": 0
      },
      "text/plain": [
       "  0%|          | 0/1 [00:00<?, ?it/s]"
      ]
     },
     "metadata": {},
     "output_type": "display_data"
    },
    {
     "name": "stdout",
     "output_type": "stream",
     "text": [
      "{'eval_loss': 0.6744751930236816, 'eval_accuracy': 0.6, 'eval_recall': 0.6, 'eval_f1': 0.4499999999999999, 'eval_runtime': 0.0448, 'eval_samples_per_second': 111.696, 'eval_steps_per_second': 22.339, 'epoch': 2.0}\n"
     ]
    },
    {
     "data": {
      "application/vnd.jupyter.widget-view+json": {
       "model_id": "3688ef3595374695a7730b7b86f4ac59",
       "version_major": 2,
       "version_minor": 0
      },
      "text/plain": [
       "  0%|          | 0/1 [00:00<?, ?it/s]"
      ]
     },
     "metadata": {},
     "output_type": "display_data"
    },
    {
     "name": "stdout",
     "output_type": "stream",
     "text": [
      "{'eval_loss': 0.6758669018745422, 'eval_accuracy': 0.6, 'eval_recall': 0.6, 'eval_f1': 0.4499999999999999, 'eval_runtime': 0.033, 'eval_samples_per_second': 151.294, 'eval_steps_per_second': 30.259, 'epoch': 3.0}\n",
      "{'train_runtime': 3.6112, 'train_samples_per_second': 20.769, 'train_steps_per_second': 3.323, 'train_loss': 0.6804651419321696, 'epoch': 3.0}\n"
     ]
    },
    {
     "data": {
      "application/vnd.jupyter.widget-view+json": {
       "model_id": "c4bd649761984380b368a84f6e964502",
       "version_major": 2,
       "version_minor": 0
      },
      "text/plain": [
       "  0%|          | 0/1 [00:00<?, ?it/s]"
      ]
     },
     "metadata": {},
     "output_type": "display_data"
    },
    {
     "ename": "AttributeError",
     "evalue": "'dict' object has no attribute 'label_ids'",
     "output_type": "error",
     "traceback": [
      "\u001b[0;31m---------------------------------------------------------------------------\u001b[0m",
      "\u001b[0;31mAttributeError\u001b[0m                            Traceback (most recent call last)",
      "\u001b[1;32m/Users/xiaoou/Documents/baiduyun/mypackages/tuto_files/new.ipynb Cell 2\u001b[0m line \u001b[0;36m1\n\u001b[1;32m     <a href='vscode-notebook-cell:/Users/xiaoou/Documents/baiduyun/mypackages/tuto_files/new.ipynb#W1sZmlsZQ%3D%3D?line=11'>12</a>\u001b[0m train_dataset, val_dataset \u001b[39m=\u001b[39m classifier\u001b[39m.\u001b[39mload_dataset(df)\n\u001b[1;32m     <a href='vscode-notebook-cell:/Users/xiaoou/Documents/baiduyun/mypackages/tuto_files/new.ipynb#W1sZmlsZQ%3D%3D?line=12'>13</a>\u001b[0m \u001b[39m# Train the model\u001b[39;00m\n\u001b[0;32m---> <a href='vscode-notebook-cell:/Users/xiaoou/Documents/baiduyun/mypackages/tuto_files/new.ipynb#W1sZmlsZQ%3D%3D?line=13'>14</a>\u001b[0m classifier\u001b[39m.\u001b[39;49mtrain(train_dataset, val_dataset)\n",
      "\u001b[1;32m/Users/xiaoou/Documents/baiduyun/mypackages/tuto_files/new.ipynb Cell 2\u001b[0m line \u001b[0;36m6\n\u001b[1;32m     <a href='vscode-notebook-cell:/Users/xiaoou/Documents/baiduyun/mypackages/tuto_files/new.ipynb#W1sZmlsZQ%3D%3D?line=53'>54</a>\u001b[0m trainer \u001b[39m=\u001b[39m Trainer(\n\u001b[1;32m     <a href='vscode-notebook-cell:/Users/xiaoou/Documents/baiduyun/mypackages/tuto_files/new.ipynb#W1sZmlsZQ%3D%3D?line=54'>55</a>\u001b[0m     model\u001b[39m=\u001b[39m\u001b[39mself\u001b[39m\u001b[39m.\u001b[39mmodel,\n\u001b[1;32m     <a href='vscode-notebook-cell:/Users/xiaoou/Documents/baiduyun/mypackages/tuto_files/new.ipynb#W1sZmlsZQ%3D%3D?line=55'>56</a>\u001b[0m     args\u001b[39m=\u001b[39mtraining_args,\n\u001b[0;32m   (...)\u001b[0m\n\u001b[1;32m     <a href='vscode-notebook-cell:/Users/xiaoou/Documents/baiduyun/mypackages/tuto_files/new.ipynb#W1sZmlsZQ%3D%3D?line=58'>59</a>\u001b[0m     compute_metrics\u001b[39m=\u001b[39m\u001b[39mself\u001b[39m\u001b[39m.\u001b[39mcompute_metrics\n\u001b[1;32m     <a href='vscode-notebook-cell:/Users/xiaoou/Documents/baiduyun/mypackages/tuto_files/new.ipynb#W1sZmlsZQ%3D%3D?line=59'>60</a>\u001b[0m )\n\u001b[1;32m     <a href='vscode-notebook-cell:/Users/xiaoou/Documents/baiduyun/mypackages/tuto_files/new.ipynb#W1sZmlsZQ%3D%3D?line=61'>62</a>\u001b[0m trainer\u001b[39m.\u001b[39mtrain()\n\u001b[0;32m---> <a href='vscode-notebook-cell:/Users/xiaoou/Documents/baiduyun/mypackages/tuto_files/new.ipynb#W1sZmlsZQ%3D%3D?line=62'>63</a>\u001b[0m \u001b[39mself\u001b[39m\u001b[39m.\u001b[39mf1, \u001b[39mself\u001b[39m\u001b[39m.\u001b[39maccuracy, \u001b[39mself\u001b[39m\u001b[39m.\u001b[39mrecall \u001b[39m=\u001b[39m \u001b[39mself\u001b[39;49m\u001b[39m.\u001b[39;49mcompute_metrics(trainer\u001b[39m.\u001b[39;49mevaluate())\n",
      "\u001b[1;32m/Users/xiaoou/Documents/baiduyun/mypackages/tuto_files/new.ipynb Cell 2\u001b[0m line \u001b[0;36m3\n\u001b[1;32m     <a href='vscode-notebook-cell:/Users/xiaoou/Documents/baiduyun/mypackages/tuto_files/new.ipynb#W1sZmlsZQ%3D%3D?line=36'>37</a>\u001b[0m \u001b[39mdef\u001b[39;00m \u001b[39mcompute_metrics\u001b[39m(\u001b[39mself\u001b[39m, pred):\n\u001b[0;32m---> <a href='vscode-notebook-cell:/Users/xiaoou/Documents/baiduyun/mypackages/tuto_files/new.ipynb#W1sZmlsZQ%3D%3D?line=37'>38</a>\u001b[0m     labels \u001b[39m=\u001b[39m pred\u001b[39m.\u001b[39;49mlabel_ids\n\u001b[1;32m     <a href='vscode-notebook-cell:/Users/xiaoou/Documents/baiduyun/mypackages/tuto_files/new.ipynb#W1sZmlsZQ%3D%3D?line=38'>39</a>\u001b[0m     preds \u001b[39m=\u001b[39m pred\u001b[39m.\u001b[39mpredictions\u001b[39m.\u001b[39margmax(\u001b[39m-\u001b[39m\u001b[39m1\u001b[39m)\n\u001b[1;32m     <a href='vscode-notebook-cell:/Users/xiaoou/Documents/baiduyun/mypackages/tuto_files/new.ipynb#W1sZmlsZQ%3D%3D?line=39'>40</a>\u001b[0m     accuracy \u001b[39m=\u001b[39m accuracy_score(labels, preds)\n",
      "\u001b[0;31mAttributeError\u001b[0m: 'dict' object has no attribute 'label_ids'"
     ]
    }
   ],
   "source": [
    "import random\n",
    "\n",
    "data = {\n",
    "    \"text\": [f\"This is sentence {i}\" for i in range(30)],\n",
    "    \"label\": [random.randint(0, 1) for _ in range(30)],\n",
    "    \"set_type\": [\"train\" if i < 25 else \"validation\" for i in range(30)]\n",
    "}\n",
    "df = pd.DataFrame(data)\n",
    "\n",
    "classifier = Classifier(\"distilbert-base-uncased\")\n",
    "\n",
    "train_dataset, val_dataset = classifier.load_dataset(df)\n",
    "# Train the model\n",
    "classifier.train(train_dataset, val_dataset)\n"
   ]
  }
 ],
 "metadata": {
  "kernelspec": {
   "display_name": "base",
   "language": "python",
   "name": "python3"
  },
  "language_info": {
   "codemirror_mode": {
    "name": "ipython",
    "version": 3
   },
   "file_extension": ".py",
   "mimetype": "text/x-python",
   "name": "python",
   "nbconvert_exporter": "python",
   "pygments_lexer": "ipython3",
   "version": "3.11.5"
  }
 },
 "nbformat": 4,
 "nbformat_minor": 2
}
