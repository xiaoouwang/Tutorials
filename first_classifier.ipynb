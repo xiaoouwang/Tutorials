{
 "cells": [
  {
   "cell_type": "code",
   "execution_count": 1,
   "metadata": {},
   "outputs": [],
   "source": [
    "\n"
   ]
  },
  {
   "cell_type": "code",
   "execution_count": 2,
   "metadata": {},
   "outputs": [
    {
     "name": "stderr",
     "output_type": "stream",
     "text": [
      "Some weights of DistilBertForSequenceClassification were not initialized from the model checkpoint at distilbert-base-uncased and are newly initialized: ['pre_classifier.bias', 'classifier.weight', 'pre_classifier.weight', 'classifier.bias']\n",
      "You should probably TRAIN this model on a down-stream task to be able to use it for predictions and inference.\n",
      "huggingface/tokenizers: The current process just got forked, after parallelism has already been used. Disabling parallelism to avoid deadlocks...\n",
      "To disable this warning, you can either:\n",
      "\t- Avoid using `tokenizers` before the fork if possible\n",
      "\t- Explicitly set the environment variable TOKENIZERS_PARALLELISM=(true | false)\n"
     ]
    },
    {
     "data": {
      "application/vnd.jupyter.widget-view+json": {
       "model_id": "4f5265d835bf4d2c99640edd68c912ce",
       "version_major": 2,
       "version_minor": 0
      },
      "text/plain": [
       "  0%|          | 0/12 [00:00<?, ?it/s]"
      ]
     },
     "metadata": {},
     "output_type": "display_data"
    },
    {
     "data": {
      "application/vnd.jupyter.widget-view+json": {
       "model_id": "89a2888bcd274183a736f76629a1c605",
       "version_major": 2,
       "version_minor": 0
      },
      "text/plain": [
       "  0%|          | 0/1 [00:00<?, ?it/s]"
      ]
     },
     "metadata": {},
     "output_type": "display_data"
    },
    {
     "name": "stdout",
     "output_type": "stream",
     "text": [
      "{'eval_loss': 0.6161079406738281, 'eval_accuracy': 0.8, 'eval_recall': 0.8, 'eval_f1': 0.7111111111111111, 'eval_runtime': 0.2687, 'eval_samples_per_second': 18.611, 'eval_steps_per_second': 3.722, 'epoch': 1.0}\n"
     ]
    },
    {
     "data": {
      "application/vnd.jupyter.widget-view+json": {
       "model_id": "2fe26fe7a8c34c8f94f9aa9f8e5a2eab",
       "version_major": 2,
       "version_minor": 0
      },
      "text/plain": [
       "  0%|          | 0/1 [00:00<?, ?it/s]"
      ]
     },
     "metadata": {},
     "output_type": "display_data"
    },
    {
     "name": "stdout",
     "output_type": "stream",
     "text": [
      "{'eval_loss': 0.5591074824333191, 'eval_accuracy': 0.8, 'eval_recall': 0.8, 'eval_f1': 0.7111111111111111, 'eval_runtime': 0.0518, 'eval_samples_per_second': 96.49, 'eval_steps_per_second': 19.298, 'epoch': 2.0}\n"
     ]
    },
    {
     "data": {
      "application/vnd.jupyter.widget-view+json": {
       "model_id": "3a0d6ad3ea074749859e3bb20fe08288",
       "version_major": 2,
       "version_minor": 0
      },
      "text/plain": [
       "  0%|          | 0/1 [00:00<?, ?it/s]"
      ]
     },
     "metadata": {},
     "output_type": "display_data"
    },
    {
     "name": "stdout",
     "output_type": "stream",
     "text": [
      "{'eval_loss': 0.5563600659370422, 'eval_accuracy': 0.8, 'eval_recall': 0.8, 'eval_f1': 0.7111111111111111, 'eval_runtime': 0.0579, 'eval_samples_per_second': 86.332, 'eval_steps_per_second': 17.266, 'epoch': 3.0}\n",
      "{'train_runtime': 4.2358, 'train_samples_per_second': 17.706, 'train_steps_per_second': 2.833, 'train_loss': 0.7010207176208496, 'epoch': 3.0}\n"
     ]
    },
    {
     "data": {
      "application/vnd.jupyter.widget-view+json": {
       "model_id": "c4b9ecf0051449d9acd6c521ccee2ca1",
       "version_major": 2,
       "version_minor": 0
      },
      "text/plain": [
       "  0%|          | 0/1 [00:00<?, ?it/s]"
      ]
     },
     "metadata": {},
     "output_type": "display_data"
    },
    {
     "ename": "AttributeError",
     "evalue": "'dict' object has no attribute 'label_ids'",
     "output_type": "error",
     "traceback": [
      "\u001b[0;31m---------------------------------------------------------------------------\u001b[0m",
      "\u001b[0;31mAttributeError\u001b[0m                            Traceback (most recent call last)",
      "\u001b[1;32m/Users/xiaoou/Documents/baiduyun/mypackages/tuto_files/first_classifier.ipynb Cell 2\u001b[0m line \u001b[0;36m1\n\u001b[1;32m     <a href='vscode-notebook-cell:/Users/xiaoou/Documents/baiduyun/mypackages/tuto_files/first_classifier.ipynb#W2sZmlsZQ%3D%3D?line=11'>12</a>\u001b[0m train_dataset, val_dataset \u001b[39m=\u001b[39m classifier\u001b[39m.\u001b[39mload_dataset(df)\n\u001b[1;32m     <a href='vscode-notebook-cell:/Users/xiaoou/Documents/baiduyun/mypackages/tuto_files/first_classifier.ipynb#W2sZmlsZQ%3D%3D?line=12'>13</a>\u001b[0m \u001b[39m# Train the model\u001b[39;00m\n\u001b[0;32m---> <a href='vscode-notebook-cell:/Users/xiaoou/Documents/baiduyun/mypackages/tuto_files/first_classifier.ipynb#W2sZmlsZQ%3D%3D?line=13'>14</a>\u001b[0m classifier\u001b[39m.\u001b[39;49mtrain(train_dataset, val_dataset)\n",
      "\u001b[1;32m/Users/xiaoou/Documents/baiduyun/mypackages/tuto_files/first_classifier.ipynb Cell 2\u001b[0m line \u001b[0;36m8\n\u001b[1;32m     <a href='vscode-notebook-cell:/Users/xiaoou/Documents/baiduyun/mypackages/tuto_files/first_classifier.ipynb#W2sZmlsZQ%3D%3D?line=74'>75</a>\u001b[0m trainer \u001b[39m=\u001b[39m Trainer(\n\u001b[1;32m     <a href='vscode-notebook-cell:/Users/xiaoou/Documents/baiduyun/mypackages/tuto_files/first_classifier.ipynb#W2sZmlsZQ%3D%3D?line=75'>76</a>\u001b[0m     model\u001b[39m=\u001b[39m\u001b[39mself\u001b[39m\u001b[39m.\u001b[39mmodel,\n\u001b[1;32m     <a href='vscode-notebook-cell:/Users/xiaoou/Documents/baiduyun/mypackages/tuto_files/first_classifier.ipynb#W2sZmlsZQ%3D%3D?line=76'>77</a>\u001b[0m     args\u001b[39m=\u001b[39mtraining_args,\n\u001b[0;32m   (...)\u001b[0m\n\u001b[1;32m     <a href='vscode-notebook-cell:/Users/xiaoou/Documents/baiduyun/mypackages/tuto_files/first_classifier.ipynb#W2sZmlsZQ%3D%3D?line=79'>80</a>\u001b[0m     compute_metrics\u001b[39m=\u001b[39m\u001b[39mself\u001b[39m\u001b[39m.\u001b[39mcompute_metrics\n\u001b[1;32m     <a href='vscode-notebook-cell:/Users/xiaoou/Documents/baiduyun/mypackages/tuto_files/first_classifier.ipynb#W2sZmlsZQ%3D%3D?line=80'>81</a>\u001b[0m )\n\u001b[1;32m     <a href='vscode-notebook-cell:/Users/xiaoou/Documents/baiduyun/mypackages/tuto_files/first_classifier.ipynb#W2sZmlsZQ%3D%3D?line=82'>83</a>\u001b[0m trainer\u001b[39m.\u001b[39mtrain()\n\u001b[0;32m---> <a href='vscode-notebook-cell:/Users/xiaoou/Documents/baiduyun/mypackages/tuto_files/first_classifier.ipynb#W2sZmlsZQ%3D%3D?line=83'>84</a>\u001b[0m \u001b[39mself\u001b[39m\u001b[39m.\u001b[39mf1, \u001b[39mself\u001b[39m\u001b[39m.\u001b[39maccuracy, \u001b[39mself\u001b[39m\u001b[39m.\u001b[39mrecall \u001b[39m=\u001b[39m \u001b[39mself\u001b[39;49m\u001b[39m.\u001b[39;49mcompute_metrics(trainer\u001b[39m.\u001b[39;49mevaluate())\n",
      "\u001b[1;32m/Users/xiaoou/Documents/baiduyun/mypackages/tuto_files/first_classifier.ipynb Cell 2\u001b[0m line \u001b[0;36m5\n\u001b[1;32m     <a href='vscode-notebook-cell:/Users/xiaoou/Documents/baiduyun/mypackages/tuto_files/first_classifier.ipynb#W2sZmlsZQ%3D%3D?line=56'>57</a>\u001b[0m \u001b[39mdef\u001b[39;00m \u001b[39mcompute_metrics\u001b[39m(\u001b[39mself\u001b[39m, pred):\n\u001b[0;32m---> <a href='vscode-notebook-cell:/Users/xiaoou/Documents/baiduyun/mypackages/tuto_files/first_classifier.ipynb#W2sZmlsZQ%3D%3D?line=57'>58</a>\u001b[0m     labels \u001b[39m=\u001b[39m pred\u001b[39m.\u001b[39;49mlabel_ids\n\u001b[1;32m     <a href='vscode-notebook-cell:/Users/xiaoou/Documents/baiduyun/mypackages/tuto_files/first_classifier.ipynb#W2sZmlsZQ%3D%3D?line=58'>59</a>\u001b[0m     preds \u001b[39m=\u001b[39m pred\u001b[39m.\u001b[39mpredictions\u001b[39m.\u001b[39margmax(\u001b[39m-\u001b[39m\u001b[39m1\u001b[39m)\n\u001b[1;32m     <a href='vscode-notebook-cell:/Users/xiaoou/Documents/baiduyun/mypackages/tuto_files/first_classifier.ipynb#W2sZmlsZQ%3D%3D?line=59'>60</a>\u001b[0m     accuracy \u001b[39m=\u001b[39m accuracy_score(labels, preds)\n",
      "\u001b[0;31mAttributeError\u001b[0m: 'dict' object has no attribute 'label_ids'"
     ]
    }
   ],
   "source": [
    "import random\n",
    "\n",
    "data = {\n",
    "    \"text\": [f\"This is sentence {i}\" for i in range(30)],\n",
    "    \"label\": [random.randint(0, 1) for _ in range(30)],\n",
    "    \"set_type\": [\"train\" if i < 25 else \"validation\" for i in range(30)]\n",
    "}\n",
    "df = pd.DataFrame(data)\n",
    "\n",
    "classifier = Classifier(\"distilbert-base-uncased\")\n",
    "\n",
    "train_dataset, val_dataset = classifier.load_dataset(df)\n",
    "# Train the model\n",
    "classifier.train(train_dataset, val_dataset)\n"
   ]
  },
  {
   "cell_type": "code",
   "execution_count": null,
   "metadata": {},
   "outputs": [],
   "source": []
  }
 ],
 "metadata": {
  "kernelspec": {
   "display_name": "base",
   "language": "python",
   "name": "python3"
  },
  "language_info": {
   "codemirror_mode": {
    "name": "ipython",
    "version": 3
   },
   "file_extension": ".py",
   "mimetype": "text/x-python",
   "name": "python",
   "nbconvert_exporter": "python",
   "pygments_lexer": "ipython3",
   "version": "3.11.5"
  }
 },
 "nbformat": 4,
 "nbformat_minor": 2
}
